{
  "nbformat": 4,
  "nbformat_minor": 0,
  "metadata": {
    "colab": {
      "provenance": [],
      "authorship_tag": "ABX9TyMq4Zc0OpTGkpnEXcJ9e9oy"
    },
    "kernelspec": {
      "name": "python3",
      "display_name": "Python 3"
    },
    "language_info": {
      "name": "python"
    }
  },
  "cells": [
    {
      "cell_type": "code",
      "execution_count": null,
      "metadata": {
        "id": "H_OKZjaZZ1yR"
      },
      "outputs": [],
      "source": [
        "class PIDController:\n",
        "    def __init__(self, Kp, Ki, Kd):\n",
        "        self.Kp = Kp\n",
        "        self.Ki = Ki\n",
        "        self.Kd = Kd\n",
        "        self.prev_error = 0\n",
        "        self.integral = 0\n",
        "\n",
        "    def compute(self, setpoint, measured_value):\n",
        "        \"\"\"Computes the new pump flow rate based on feedback.\"\"\"\n",
        "        error = setpoint - measured_value\n",
        "        self.integral += error\n",
        "        derivative = error - self.prev_error\n",
        "        output = self.Kp * error + self.Ki * self.integral + self.Kd * derivative\n",
        "        self.prev_error = error\n",
        "        return max(0, output)\n",
        "\n",
        "# Example Usage\n",
        "pid = PIDController(1.0, 0.1, 0.05)\n",
        "new_flow_rate = pid.compute(setpoint=5.0, measured_value=4.5)\n",
        "print(\"New Flow Rate:\", new_flow_rate)"
      ]
    }
  ]
}