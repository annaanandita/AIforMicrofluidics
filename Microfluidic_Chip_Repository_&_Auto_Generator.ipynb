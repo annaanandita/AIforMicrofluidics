{
  "nbformat": 4,
  "nbformat_minor": 0,
  "metadata": {
    "colab": {
      "provenance": [],
      "authorship_tag": "ABX9TyN6hzQuesgauWYWA8fGSn8n",
      "include_colab_link": true
    },
    "kernelspec": {
      "name": "python3",
      "display_name": "Python 3"
    },
    "language_info": {
      "name": "python"
    }
  },
  "cells": [
    {
      "cell_type": "markdown",
      "metadata": {
        "id": "view-in-github",
        "colab_type": "text"
      },
      "source": [
        "<a href=\"https://colab.research.google.com/github/annaanandita/AIforMicrofluidics/blob/main/Microfluidic_Chip_Repository_%26_Auto_Generator.ipynb\" target=\"_parent\"><img src=\"https://colab.research.google.com/assets/colab-badge.svg\" alt=\"Open In Colab\"/></a>"
      ]
    },
    {
      "cell_type": "code",
      "execution_count": null,
      "metadata": {
        "id": "n36qOtzVaJsP"
      },
      "outputs": [],
      "source": [
        "def generate_svg_chip(filename=\"chip_design.svg\"):\n",
        "    \"\"\"Creates an SVG file for a basic microfluidic chip layout.\"\"\"\n",
        "    svg_content = \"\"\"<svg width=\"500\" height=\"500\">\n",
        "        <rect x=\"100\" y=\"100\" width=\"300\" height=\"50\" stroke=\"black\" fill=\"transparent\" stroke-width=\"3\"/>\n",
        "    </svg>\"\"\"\n",
        "    with open(filename, \"w\") as f:\n",
        "        f.write(svg_content)\n",
        "\n",
        "# Example Usage\n",
        "generate_svg_chip()\n",
        "print(\"SVG file created!\")"
      ]
    }
  ]
}