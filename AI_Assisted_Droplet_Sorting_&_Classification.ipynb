{
  "nbformat": 4,
  "nbformat_minor": 0,
  "metadata": {
    "colab": {
      "provenance": [],
      "authorship_tag": "ABX9TyMS1j2TBzfivoHubKQtOBu3"
    },
    "kernelspec": {
      "name": "python3",
      "display_name": "Python 3"
    },
    "language_info": {
      "name": "python"
    }
  },
  "cells": [
    {
      "cell_type": "code",
      "execution_count": null,
      "metadata": {
        "id": "i4FH1IFKaWXU"
      },
      "outputs": [],
      "source": [
        "pip install torch"
      ]
    },
    {
      "cell_type": "code",
      "source": [
        "import torch\n",
        "import torch.nn as nn\n",
        "\n",
        "class DropletClassifier(nn.Module):\n",
        "    def __init__(self):\n",
        "        super(DropletClassifier, self).__init__()\n",
        "        self.fc = nn.Sequential(\n",
        "            nn.Linear(3, 10),\n",
        "            nn.ReLU(),\n",
        "            nn.Linear(10, 2)\n",
        "        )\n",
        "\n",
        "    def forward(self, x):\n",
        "        return self.fc(x)\n",
        "\n",
        "# Example Usage\n",
        "model = DropletClassifier()\n",
        "example_input = torch.tensor([0.5, 0.8, 0.2])\n",
        "output = model(example_input)\n",
        "print(\"Classification Output:\", output)"
      ],
      "metadata": {
        "id": "RIhyhvnJadMn"
      },
      "execution_count": null,
      "outputs": []
    }
  ]
}