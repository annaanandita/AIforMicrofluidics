{
  "nbformat": 4,
  "nbformat_minor": 0,
  "metadata": {
    "colab": {
      "provenance": [],
      "authorship_tag": "ABX9TyNuVFslJCB6awiaFfjk8n8/"
    },
    "kernelspec": {
      "name": "python3",
      "display_name": "Python 3"
    },
    "language_info": {
      "name": "python"
    }
  },
  "cells": [
    {
      "cell_type": "code",
      "execution_count": null,
      "metadata": {
        "id": "wpLn1pAgZSaY"
      },
      "outputs": [],
      "source": [
        "import random\n",
        "\n",
        "def route_droplet(start, targets):\n",
        "    \"\"\"Finds an optimal path for a droplet in a digital microfluidic device.\"\"\"\n",
        "    path = [start]\n",
        "    while path[-1] not in targets:\n",
        "        next_step = (path[-1][0] + random.choice([-1, 1]), path[-1][1] + random.choice([-1, 1]))\n",
        "        path.append(next_step)\n",
        "    return path\n",
        "\n",
        "# Example Usage\n",
        "start_position = (0, 0)\n",
        "target_positions = [(5, 5), (10, 10)]\n",
        "route = route_droplet(start_position, target_positions)\n",
        "print(\"Droplet Route:\", route)"
      ]
    }
  ]
}